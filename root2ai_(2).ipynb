{
  "nbformat": 4,
  "nbformat_minor": 0,
  "metadata": {
    "colab": {
      "name": "root2ai (2).ipynb",
      "provenance": [],
      "collapsed_sections": []
    },
    "kernelspec": {
      "display_name": "Python 3",
      "language": "python",
      "name": "python3"
    },
    "language_info": {
      "codemirror_mode": {
        "name": "ipython",
        "version": 3
      },
      "file_extension": ".py",
      "mimetype": "text/x-python",
      "name": "python",
      "nbconvert_exporter": "python",
      "pygments_lexer": "ipython3",
      "version": "3.8.5"
    },
    "accelerator": "GPU"
  },
  "cells": [
    {
      "cell_type": "code",
      "metadata": {
        "id": "NTRaelFlBqdB"
      },
      "source": [
        "#importing libararies\n",
        "import pandas as pd\n",
        "import numpy as np\n",
        "import matplotlib.pyplot as plt\n",
        "import seaborn as sns\n",
        "from sklearn.model_selection import train_test_split\n",
        "from sklearn.preprocessing import StandardScaler\n",
        "from sklearn.neighbors import KNeighborsClassifier\n",
        "from sklearn.metrics import confusion_matrix\n",
        "from sklearn import metrics\n",
        "from sklearn.svm import SVC\n",
        "\n",
        "%matplotlib inline\n"
      ],
      "execution_count": null,
      "outputs": []
    },
    {
      "cell_type": "code",
      "metadata": {
        "colab": {
          "base_uri": "https://localhost:8080/"
        },
        "id": "tZrwOfu989_g",
        "outputId": "f778b108-f560-4de3-86e6-82839f12fba9"
      },
      "source": [
        "import nltk\n",
        "from nltk.corpus import wordnet as wn\n",
        "from nltk.corpus import genesis\n",
        "nltk.download('genesis')\n",
        "nltk.download('wordnet')\n",
        "nltk.download('punkt')\n",
        "nltk.download('averaged_perceptron_tagger')\n",
        "genesis_ic = wn.ic(genesis, False, 0.0)\n",
        "\n",
        "import numpy as np\n",
        "import pandas as pd\n",
        "from nltk.tokenize import word_tokenize\n",
        "from nltk.stem.porter import PorterStemmer\n",
        "from nltk.stem import SnowballStemmer\n",
        "from nltk.stem.lancaster import LancasterStemmer\n",
        "from nltk.corpus import stopwords\n",
        "from sklearn.metrics import roc_auc_score"
      ],
      "execution_count": null,
      "outputs": [
        {
          "output_type": "stream",
          "text": [
            "[nltk_data] Downloading package genesis to /root/nltk_data...\n",
            "[nltk_data]   Unzipping corpora/genesis.zip.\n",
            "[nltk_data] Downloading package wordnet to /root/nltk_data...\n",
            "[nltk_data]   Unzipping corpora/wordnet.zip.\n",
            "[nltk_data] Downloading package punkt to /root/nltk_data...\n",
            "[nltk_data]   Unzipping tokenizers/punkt.zip.\n",
            "[nltk_data] Downloading package averaged_perceptron_tagger to\n",
            "[nltk_data]     /root/nltk_data...\n",
            "[nltk_data]   Unzipping taggers/averaged_perceptron_tagger.zip.\n"
          ],
          "name": "stdout"
        }
      ]
    },
    {
      "cell_type": "code",
      "metadata": {
        "colab": {
          "base_uri": "https://localhost:8080/",
          "height": 415
        },
        "id": "6HuQM6EE89_i",
        "outputId": "03e33271-8ba5-4856-ad96-462f59169559"
      },
      "source": [
        "df = pd.read_csv('root2ai - Data.csv')\n",
        "df"
      ],
      "execution_count": null,
      "outputs": [
        {
          "output_type": "execute_result",
          "data": {
            "text/html": [
              "<div>\n",
              "<style scoped>\n",
              "    .dataframe tbody tr th:only-of-type {\n",
              "        vertical-align: middle;\n",
              "    }\n",
              "\n",
              "    .dataframe tbody tr th {\n",
              "        vertical-align: top;\n",
              "    }\n",
              "\n",
              "    .dataframe thead th {\n",
              "        text-align: right;\n",
              "    }\n",
              "</style>\n",
              "<table border=\"1\" class=\"dataframe\">\n",
              "  <thead>\n",
              "    <tr style=\"text-align: right;\">\n",
              "      <th></th>\n",
              "      <th>Text</th>\n",
              "      <th>Target</th>\n",
              "    </tr>\n",
              "  </thead>\n",
              "  <tbody>\n",
              "    <tr>\n",
              "      <th>0</th>\n",
              "      <td>reserve bank forming expert committee based in...</td>\n",
              "      <td>Blockchain</td>\n",
              "    </tr>\n",
              "    <tr>\n",
              "      <th>1</th>\n",
              "      <td>director could play role financial system</td>\n",
              "      <td>Blockchain</td>\n",
              "    </tr>\n",
              "    <tr>\n",
              "      <th>2</th>\n",
              "      <td>preliminary discuss secure transaction study r...</td>\n",
              "      <td>Blockchain</td>\n",
              "    </tr>\n",
              "    <tr>\n",
              "      <th>3</th>\n",
              "      <td>security indeed prove essential transforming f...</td>\n",
              "      <td>Blockchain</td>\n",
              "    </tr>\n",
              "    <tr>\n",
              "      <th>4</th>\n",
              "      <td>bank settlement normally take three days based...</td>\n",
              "      <td>Blockchain</td>\n",
              "    </tr>\n",
              "    <tr>\n",
              "      <th>...</th>\n",
              "      <td>...</td>\n",
              "      <td>...</td>\n",
              "    </tr>\n",
              "    <tr>\n",
              "      <th>22699</th>\n",
              "      <td>fourth study discusses blockchain technology e...</td>\n",
              "      <td>Reg Tech</td>\n",
              "    </tr>\n",
              "    <tr>\n",
              "      <th>22700</th>\n",
              "      <td>book finishes stating biggest issue emerging F...</td>\n",
              "      <td>Reg Tech</td>\n",
              "    </tr>\n",
              "    <tr>\n",
              "      <th>22701</th>\n",
              "      <td>people culture cess</td>\n",
              "      <td>Reg Tech</td>\n",
              "    </tr>\n",
              "    <tr>\n",
              "      <th>22702</th>\n",
              "      <td>author challenges execu tive lead change stop ...</td>\n",
              "      <td>Reg Tech</td>\n",
              "    </tr>\n",
              "    <tr>\n",
              "      <th>22703</th>\n",
              "      <td>change data driven culture come bottom must start</td>\n",
              "      <td>Reg Tech</td>\n",
              "    </tr>\n",
              "  </tbody>\n",
              "</table>\n",
              "<p>22704 rows × 2 columns</p>\n",
              "</div>"
            ],
            "text/plain": [
              "                                                    Text      Target\n",
              "0      reserve bank forming expert committee based in...  Blockchain\n",
              "1              director could play role financial system  Blockchain\n",
              "2      preliminary discuss secure transaction study r...  Blockchain\n",
              "3      security indeed prove essential transforming f...  Blockchain\n",
              "4      bank settlement normally take three days based...  Blockchain\n",
              "...                                                  ...         ...\n",
              "22699  fourth study discusses blockchain technology e...    Reg Tech\n",
              "22700  book finishes stating biggest issue emerging F...    Reg Tech\n",
              "22701                                people culture cess    Reg Tech\n",
              "22702  author challenges execu tive lead change stop ...    Reg Tech\n",
              "22703  change data driven culture come bottom must start    Reg Tech\n",
              "\n",
              "[22704 rows x 2 columns]"
            ]
          },
          "metadata": {
            "tags": []
          },
          "execution_count": 8
        }
      ]
    },
    {
      "cell_type": "code",
      "metadata": {
        "colab": {
          "base_uri": "https://localhost:8080/",
          "height": 35
        },
        "id": "i20aDAP589_j",
        "outputId": "f587b7b0-0c32-4b8f-ee8e-13be186aa1ed"
      },
      "source": [
        "k = df.Target.value_counts().keys()\n",
        "k[0]"
      ],
      "execution_count": null,
      "outputs": [
        {
          "output_type": "execute_result",
          "data": {
            "application/vnd.google.colaboratory.intrinsic+json": {
              "type": "string"
            },
            "text/plain": [
              "'FinTech'"
            ]
          },
          "metadata": {
            "tags": []
          },
          "execution_count": 5
        }
      ]
    },
    {
      "cell_type": "code",
      "metadata": {
        "colab": {
          "base_uri": "https://localhost:8080/"
        },
        "id": "b1e8fXZ389_j",
        "outputId": "00a168d6-250f-457b-d2d4-cec8a0ff6d43"
      },
      "source": [
        "d = {}\n",
        "for i in range(len(k)):\n",
        "    if i<5:\n",
        "        d[k[i]] = i\n",
        "    else :\n",
        "        d[k[i]]=5\n",
        "df.Target = df.Target.replace(d)\n",
        "df.Target"
      ],
      "execution_count": null,
      "outputs": [
        {
          "output_type": "execute_result",
          "data": {
            "text/plain": [
              "0        4.0\n",
              "1        4.0\n",
              "2        4.0\n",
              "3        4.0\n",
              "4        4.0\n",
              "        ... \n",
              "12951    0.0\n",
              "12952    0.0\n",
              "12953    0.0\n",
              "12954    0.0\n",
              "12955    NaN\n",
              "Name: Target, Length: 12956, dtype: float64"
            ]
          },
          "metadata": {
            "tags": []
          },
          "execution_count": 6
        }
      ]
    },
    {
      "cell_type": "code",
      "metadata": {
        "colab": {
          "base_uri": "https://localhost:8080/"
        },
        "id": "q3ksMnop89_k",
        "outputId": "2cdb9e05-fb33-4a2f-8d8e-7fdb014a7252"
      },
      "source": [
        "import re\n",
        "nltk.download('stopwords')\n",
        "s = stopwords.words('english')\n",
        "s.extend(['today', 'tomorrow', 'outside', 'out', 'there'])\n",
        "ps = nltk.wordnet.WordNetLemmatizer()\n",
        "for i in range(df.shape[0]):\n",
        "    review = str(df.loc[i,'Text'])\n",
        "    review = review.lower()\n",
        "    review = review.split()\n",
        "    review = [ps.lemmatize(word) for word in review if not word in s]\n",
        "    review = ' '.join(review)\n",
        "    df.loc[i, 'Text'] = review\n"
      ],
      "execution_count": null,
      "outputs": [
        {
          "output_type": "stream",
          "text": [
            "[nltk_data] Downloading package stopwords to /root/nltk_data...\n",
            "[nltk_data]   Unzipping corpora/stopwords.zip.\n"
          ],
          "name": "stdout"
        }
      ]
    },
    {
      "cell_type": "code",
      "metadata": {
        "id": "AvvxHWfD89_k"
      },
      "source": [
        "X_train1 = df['Text']\n",
        "y_train_vec = df['Target']"
      ],
      "execution_count": null,
      "outputs": []
    },
    {
      "cell_type": "code",
      "metadata": {
        "colab": {
          "base_uri": "https://localhost:8080/"
        },
        "id": "sV-n9hV-89_k",
        "outputId": "cc428efd-6e09-4db2-c0e3-336265c60ba3"
      },
      "source": [
        "from gensim.test.utils import common_texts\n",
        "from gensim.models import Word2Vec\n",
        "X = [i.split(' ') for i in X_train1]\n",
        "model = Word2Vec(sentences=X, size=100, window=5, min_count=1, workers=4)\n",
        "word_vectors = model.wv\n",
        "word_vectors"
      ],
      "execution_count": null,
      "outputs": [
        {
          "output_type": "execute_result",
          "data": {
            "text/plain": [
              "<gensim.models.keyedvectors.Word2VecKeyedVectors at 0x7f10db53cd10>"
            ]
          },
          "metadata": {
            "tags": []
          },
          "execution_count": 14
        }
      ]
    },
    {
      "cell_type": "code",
      "metadata": {
        "id": "5iGqFrar89_l"
      },
      "source": [
        "X_train_vec = []\n",
        "for line in X_train1:\n",
        "    vec = [word_vectors[i] for i in line.split(' ')]\n",
        "    vec = np.mean(vec,axis=-1)\n",
        "    if not vec.shape:\n",
        "        vec = [0,0]\n",
        "    vec = np.mean(vec)\n",
        "#     vec = np.expand_dims(vec,-1)\n",
        "#     vec = np.expand_dims(vec)\n",
        "#     vec = vec.reshape(-1,1)\n",
        "    X_train_vec.append(vec)"
      ],
      "execution_count": null,
      "outputs": []
    },
    {
      "cell_type": "code",
      "metadata": {
        "id": "0SoIWI1889_l"
      },
      "source": [
        "# X_train_vec = np.array(X_train_vec)\n",
        "X_train_vec =np.expand_dims(X_train_vec,-1)"
      ],
      "execution_count": null,
      "outputs": []
    },
    {
      "cell_type": "code",
      "metadata": {
        "colab": {
          "base_uri": "https://localhost:8080/"
        },
        "id": "BoKlgqTM89_l",
        "outputId": "7144401f-afad-42a2-9ec4-bef1f840b91c"
      },
      "source": [
        "X_train_vec[0]"
      ],
      "execution_count": null,
      "outputs": [
        {
          "output_type": "execute_result",
          "data": {
            "text/plain": [
              "array([0.04631805], dtype=float32)"
            ]
          },
          "metadata": {
            "tags": []
          },
          "execution_count": 17
        }
      ]
    },
    {
      "cell_type": "code",
      "metadata": {
        "id": "7xUOTK2W89_m"
      },
      "source": [
        "X_train, X_test, y_train, y_test = train_test_split((X_train_vec), y_train_vec, test_size=0.33, random_state=42)"
      ],
      "execution_count": null,
      "outputs": []
    },
    {
      "cell_type": "code",
      "metadata": {
        "colab": {
          "base_uri": "https://localhost:8080/"
        },
        "id": "uh3LpBQb89_m",
        "outputId": "b1b3e7c1-7953-4610-fa21-607382456fa6"
      },
      "source": [
        "from sklearn.neighbors import KNeighborsClassifier\n",
        "neigh = KNeighborsClassifier(n_neighbors=1)\n",
        "neigh.fit(X_train, y_train)"
      ],
      "execution_count": null,
      "outputs": [
        {
          "output_type": "execute_result",
          "data": {
            "text/plain": [
              "KNeighborsClassifier(algorithm='auto', leaf_size=30, metric='minkowski',\n",
              "                     metric_params=None, n_jobs=None, n_neighbors=1, p=2,\n",
              "                     weights='uniform')"
            ]
          },
          "metadata": {
            "tags": []
          },
          "execution_count": 19
        }
      ]
    },
    {
      "cell_type": "code",
      "metadata": {
        "colab": {
          "base_uri": "https://localhost:8080/"
        },
        "id": "TGLT9I7-89_m",
        "outputId": "ac9f4f6f-fd10-4dbc-8648-7c029ccc43c7"
      },
      "source": [
        "neigh.score(X_test,y_test)"
      ],
      "execution_count": null,
      "outputs": [
        {
          "output_type": "execute_result",
          "data": {
            "text/plain": [
              "0.2854664353396503"
            ]
          },
          "metadata": {
            "tags": []
          },
          "execution_count": 20
        }
      ]
    },
    {
      "cell_type": "code",
      "metadata": {
        "colab": {
          "base_uri": "https://localhost:8080/"
        },
        "id": "IQplQtku89_m",
        "outputId": "53da7b07-7a1f-469f-e5e1-9d6ea5be8fb2"
      },
      "source": [
        "#predicting the test set result\n",
        "y_pred = neigh.predict(X_test)\n",
        "#check accuracy\n",
        "accuracy = metrics.accuracy_score(y_test, y_pred)\n",
        "print('Accuracy: {:.2f}'.format(accuracy))"
      ],
      "execution_count": null,
      "outputs": [
        {
          "output_type": "stream",
          "text": [
            "Accuracy: 0.29\n"
          ],
          "name": "stdout"
        }
      ]
    },
    {
      "cell_type": "code",
      "metadata": {
        "colab": {
          "base_uri": "https://localhost:8080/"
        },
        "id": "U6IVHh9K-4ih",
        "outputId": "8f6f7cb9-b2a8-446f-ceb1-049d09be602c"
      },
      "source": [
        "#classification report\n",
        "from sklearn.metrics import classification_report\n",
        "print(classification_report(y_test,y_pred))"
      ],
      "execution_count": null,
      "outputs": [
        {
          "output_type": "stream",
          "text": [
            "                  precision    recall  f1-score   support\n",
            "\n",
            "         Bigdata       0.40      0.40      0.40       761\n",
            "      Blockchain       0.10      0.11      0.11       439\n",
            "  Cyber Security       0.19      0.20      0.19       862\n",
            "   Data Security       0.04      0.03      0.04       115\n",
            "         FinTech       0.42      0.42      0.42      2852\n",
            "   Microservices       0.07      0.06      0.06       352\n",
            "        Neobanks       0.17      0.17      0.17       347\n",
            "        Reg Tech       0.32      0.36      0.34       699\n",
            "   Robo Advising       0.03      0.03      0.03       249\n",
            "   Stock Trading       0.05      0.04      0.04       251\n",
            "credit reporting       0.13      0.12      0.12       566\n",
            "\n",
            "        accuracy                           0.29      7493\n",
            "       macro avg       0.17      0.18      0.18      7493\n",
            "    weighted avg       0.28      0.29      0.28      7493\n",
            "\n"
          ],
          "name": "stdout"
        }
      ]
    }
  ]
}